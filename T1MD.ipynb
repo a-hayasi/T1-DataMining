{
 "cells": [
  {
   "cell_type": "markdown",
   "metadata": {},
   "source": [
    "# Existem diversos corpos celestes que um telescópido consegue observar, entre eles os mais importantes são aqueles que exercem uma estrutura gravitacional em sua volta. Iremos abordar 3 principais: estrelas; quasar; galáxias.\n",
    "\n",
    "# As estrelas são esferas de plasma mantidas por sua própria gravidade, podendo conter sistemas de outros corpos celestes sob seu domínio gravitacional.\n",
    "\n",
    "# Quasar é um objeto astronômico que possui um centro gravitacional maior que as estrelas porém ele não tem o mínimo para ser considerado uma galáxia. Não existia consenso sobre esses objetos até os anos 80.\n",
    "\n",
    "# A Galáxia é um sistema gravitacionalmente ligado de estrelas e portanto é a estrutura gravitacional mais poderosa que iremos abordar.\n",
    "\n"
   ]
  }
 ],
 "metadata": {
  "kernelspec": {
   "display_name": "Python 3",
   "language": "python",
   "name": "python3"
  },
  "language_info": {
   "codemirror_mode": {
    "name": "ipython",
    "version": 3
   },
   "file_extension": ".py",
   "mimetype": "text/x-python",
   "name": "python",
   "nbconvert_exporter": "python",
   "pygments_lexer": "ipython3",
   "version": "3.7.0"
  }
 },
 "nbformat": 4,
 "nbformat_minor": 2
}
