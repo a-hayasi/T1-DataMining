{
 "cells": [
  {
   "cell_type": "markdown",
   "metadata": {},
   "source": [
    "# Desde os príncipios da humanidade, já se usavam constelações e estudos dos astros para localizações e calendários. Ao procurar entender o Universo, o ser humano desenvolveu diversas tecnologias e pesquisas que de alguma maneira passaram também fazer parte do seu cotidiano, alguns exemplos são : GPS, painéis solares, satélites de comunicação.\n",
    "\n",
    "# O universo está sendo aos poucos explorado com ajuda de telescópios, sendo o mais famoso o telescópio espacial Hubble, lançado em 1990. A visão do Hubble, permitiu a humanidade pela primeira vez observar corpos celestes além da nossa galáxia.\n",
    "\n",
    "# Existem diversos corpos celestes que um telescópido consegue observar, entre eles os mais importantes são aqueles que exercem uma estrutura gravitacional em sua volta. Iremos abordar 3 principais: estrelas; quasar; galáxias.\n",
    "\n",
    "# As estrelas são esferas de plasma mantidas por sua própria gravidade, podendo conter sistemas de outros corpos celestes sob seu domínio gravitacional. As estrelas mais importantes da esfer celeste da Terra, foram agrupadas em constelações e asterimos, podendo ser identificadas no céu noturno. Elas podem ser classificadas por temperatura e efeitos de luminosidade, por exemplo as estrelas anãs brancas possuem sua própria classificação diferente das outras estrelas.\n",
    "\n",
    "# Quasar é um objeto astronômico que possui um centro gravitacional maior que as estrelas porém ele não tem o mínimo para ser considerado uma galáxia. Porém eles são os maiores emissores de energida do Universo, brilhando até mil vezes mais que uma galáxia inteira. Não existia consenso sobre esses objetos até os anos 80.\n",
    "\n",
    "# A Galáxia é um sistema gravitacionalmente ligado de estrelas e portanto é a estrutura gravitacional mais poderosa que iremos abordar. O sistema solar faz parte da galáxia chamada de Via Láctea, e esta é observada desde a antiguidade. As galáxias são categorizadas por sua forma visual, sendo a mais comum em formato elíptico. Um tipo excepcional de gálaxias são as starbusters, que possuem um número elevado de formação de estrelas. \n",
    "\n",
    "# É interessante para estudos astronômicos, analisar as fotos tiradas por satélites do espaços e identificar qual tipo de corpo é a estrutura gravitacional encontrada.\n",
    "\n",
    "# O eletroscópio do satélite consegue medir o desvio para o vermelho, isto é a alteração da frequência de luz emitida, por um astro. Este desvio é causado pelos campos gravitacionais da fonte.\n",
    "\n",
    "# Porém por serem estruturas gravitacionais, apenas analisar o desvio para o vermelho não basta. Observe que uma luz emitida por uma estrela será afetada pelo campo gravitacional da estrela e pelo campo gravitacional da galáxia que ela pertence.\n",
    "\n",
    "# O objetivo deste trabalho é conseguir um classificador confiável que facilite o trabalho de identifição de corpos celestes nas três categorias abordads.\n"
   ]
  }
 ],
 "metadata": {
  "kernelspec": {
   "display_name": "Python 3",
   "language": "python",
   "name": "python3"
  },
  "language_info": {
   "codemirror_mode": {
    "name": "ipython",
    "version": 3
   },
   "file_extension": ".py",
   "mimetype": "text/x-python",
   "name": "python",
   "nbconvert_exporter": "python",
   "pygments_lexer": "ipython3",
   "version": "3.7.0"
  }
 },
 "nbformat": 4,
 "nbformat_minor": 2
}
